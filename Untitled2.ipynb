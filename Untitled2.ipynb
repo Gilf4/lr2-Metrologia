{
  "nbformat": 4,
  "nbformat_minor": 0,
  "metadata": {
    "colab": {
      "provenance": []
    },
    "kernelspec": {
      "name": "python3",
      "display_name": "Python 3"
    },
    "language_info": {
      "name": "python"
    }
  },
  "cells": [
    {
      "cell_type": "code",
      "source": [
        "from collections import Counter\n",
        "import numpy as np\n",
        "import matplotlib.pyplot as plt\n",
        "import math\n",
        "import seaborn as sns"
      ],
      "metadata": {
        "id": "9kGyuFpB8hck"
      },
      "execution_count": 3,
      "outputs": []
    },
    {
      "cell_type": "markdown",
      "source": [
        "## Задание 1 (проверка результата измерения по критерию «трех сигм»)"
      ],
      "metadata": {
        "id": "akylnE2jYT9Q"
      }
    },
    {
      "cell_type": "markdown",
      "source": [
        "Копируем выборку из варианта и удаляем значение, кторое хоти проверить"
      ],
      "metadata": {
        "id": "jQ5IPFxOf-aZ"
      }
    },
    {
      "cell_type": "code",
      "execution_count": 4,
      "metadata": {
        "id": "4KqYpWe97OLO"
      },
      "outputs": [],
      "source": [
        "data = [\n",
        "    1.6, 1.5, 1.2, 1.5, 1.4, 1.8, 1.6, 1.8, 1.2,\n",
        "    1.9, 1.2, 1.5, 1.6, 1.5, 1.2, 1.5, 1.4, 1.8,\n",
        "    1.6, 1.8, 1.2, 1.9, 1.2, 1.5, 1.2, 1.9, 1.0,\n",
        "    1.5, 1.6, 1.5\n",
        "]\n",
        "\n",
        "min_ell = min(data)\n",
        "data.remove(min_ell)\n"
      ]
    },
    {
      "cell_type": "markdown",
      "source": [
        "Вычисляем среднее значение(mean) и σ(стандартное отклонение)"
      ],
      "metadata": {
        "id": "xX1AVEPwgFCv"
      }
    },
    {
      "cell_type": "code",
      "source": [
        "mean = sum(data) / len(data)\n",
        "std = 0\n",
        "for ell in data:\n",
        "  std += (ell-mean)**2\n",
        "std /= len(data)-1\n",
        "std **= 1/2"
      ],
      "metadata": {
        "id": "LgbZYgwS8mll"
      },
      "execution_count": 5,
      "outputs": []
    },
    {
      "cell_type": "markdown",
      "source": [
        "Проверяем правило трех Сигм"
      ],
      "metadata": {
        "id": "aDt8D8m4gULd"
      }
    },
    {
      "cell_type": "code",
      "source": [
        "if abs(min_ell - mean) > 3*std:\n",
        "  print(f\"{min_ell}:выброс\")\n",
        "else:\n",
        "  print(f\"{min_ell}: не выброс\")\n",
        "  data.append(min_ell)"
      ],
      "metadata": {
        "colab": {
          "base_uri": "https://localhost:8080/"
        },
        "id": "tREmhIO5_y8E",
        "outputId": "319ac503-2fbd-4345-b5fd-2b428ee74d2c"
      },
      "execution_count": 6,
      "outputs": [
        {
          "output_type": "stream",
          "name": "stdout",
          "text": [
            "1.0: не выброс\n"
          ]
        }
      ]
    },
    {
      "cell_type": "markdown",
      "source": [
        "Находи значения для поиска интервалов:\n",
        "- k\n",
        "- размах выборки"
      ],
      "metadata": {
        "id": "aLBBkuPTgifc"
      }
    },
    {
      "cell_type": "code",
      "source": [
        "k = 1 + 3.222 * math.log(len(data), math.e)\n",
        "print(k)\n",
        "sample_range = max(data) - min(data)\n",
        "capacity = sample_range / k"
      ],
      "metadata": {
        "id": "LrEPatLOAmHz",
        "colab": {
          "base_uri": "https://localhost:8080/"
        },
        "outputId": "e732dc13-dd2e-4ef7-cfe0-3fb63d584ad9"
      },
      "execution_count": 7,
      "outputs": [
        {
          "output_type": "stream",
          "name": "stdout",
          "text": [
            "11.958657963715465\n"
          ]
        }
      ]
    },
    {
      "cell_type": "markdown",
      "source": [
        "Находим моду выборки"
      ],
      "metadata": {
        "id": "nP5Ug9zVg29O"
      }
    },
    {
      "cell_type": "code",
      "source": [
        "c = Counter(data)\n",
        "mode = max(c, key=lambda x: c[x])"
      ],
      "metadata": {
        "id": "tqeDGIuLDbfy"
      },
      "execution_count": 8,
      "outputs": []
    },
    {
      "cell_type": "markdown",
      "source": [
        "Строим гистрограмму по оси абсцисс указывают значения границ интервалов и на их основании строят прямоугольники, высота которых пропорциональна частотам. И отображаем"
      ],
      "metadata": {
        "id": "2NBtVOcfg6cv"
      }
    },
    {
      "cell_type": "code",
      "source": [
        "sns.histplot(data, bins=int(k), edgecolor='black', linewidth=1.2)\n",
        "plt.ylabel(\"Частота\")\n",
        "\n",
        "plt.axvline(mode, color='red', label=f'Среднее: {mode:.2f}')\n",
        "plt.axvline(mean, color='purple', label=f'Медиана: {mean:.2f}')\n",
        "plt.legend()"
      ],
      "metadata": {
        "colab": {
          "base_uri": "https://localhost:8080/",
          "height": 447
        },
        "id": "jQ8AVQfMBf0P",
        "outputId": "bfa33706-40d2-4438-aea4-ae56f29c9ff4"
      },
      "execution_count": 11,
      "outputs": [
        {
          "output_type": "execute_result",
          "data": {
            "text/plain": [
              "<matplotlib.legend.Legend at 0x7bff288c1750>"
            ]
          },
          "metadata": {},
          "execution_count": 11
        },
        {
          "output_type": "display_data",
          "data": {
            "text/plain": [
              "<Figure size 640x480 with 1 Axes>"
            ],
            "image/png": "[encoded data removed]"
          },
          "metadata": {}
        }
      ]
    },
    {
      "cell_type": "markdown",
      "source": [
        "##Задание 2 (проверка результата измерения по критерию Романовского)."
      ],
      "metadata": {
        "id": "njMu0z40FLFz"
      }
    },
    {
      "cell_type": "markdown",
      "source": [
        "Выборка и значения q, z даны в варианте"
      ],
      "metadata": {
        "id": "AH8Ubzv-hfMf"
      }
    },
    {
      "cell_type": "code",
      "source": [
        "data = [\n",
        "    14, 13, 14, 14\n",
        "]\n",
        "\n",
        "z = 17\n",
        "q = 0.01"
      ],
      "metadata": {
        "id": "AUMkjbEeFJRN"
      },
      "execution_count": 13,
      "outputs": []
    },
    {
      "cell_type": "markdown",
      "source": [
        "Находим:\n",
        "- среднее(mean)\n",
        "- СКО(std)  \n",
        "Далее находим β(beta) и проверяем критерий Романовского"
      ],
      "metadata": {
        "id": "BnTkavl0hn3c"
      }
    },
    {
      "cell_type": "code",
      "source": [
        "mean = sum(data)/len(data)\n",
        "\n",
        "std = 0\n",
        "for ell in data:\n",
        "  std += (ell-mean)**2\n",
        "std /= len(data)-1\n",
        "std **= 1/2\n",
        "\n",
        "beta_t = 1.945\n",
        "beta = abs((z - mean) / std)\n",
        "\n",
        "if beta > beta_t:\n",
        "  print(\"критерий свидетельствует о необходимости отбрасывания последнего результата.\")\n",
        "else:\n",
        "  print(\"критерий не свидетельствует о необходимости отбрасывания последнего результата.\")"
      ],
      "metadata": {
        "colab": {
          "base_uri": "https://localhost:8080/"
        },
        "id": "f5xtf4GYFpYE",
        "outputId": "86b6c075-9df9-4ce4-92f7-94e6d990f8c2"
      },
      "execution_count": 14,
      "outputs": [
        {
          "output_type": "stream",
          "name": "stdout",
          "text": [
            "критерий свидетельствует о необходимости отбрасывания последнего результата.\n"
          ]
        }
      ]
    },
    {
      "cell_type": "markdown",
      "source": [
        "##Задание 3 (проверка результата измерения по критерию Диксона)"
      ],
      "metadata": {
        "id": "cJ7HfNs6IYtr"
      }
    },
    {
      "cell_type": "code",
      "source": [
        "data = [12.2, 12.4, 12.5, 12.3, 11.5]\n",
        "x1 = min(data)\n",
        "data.remove(min(data))\n",
        "k = abs(x1 - min(data))/abs(x1 - max(data))\n",
        "\n",
        "\n",
        "if k > 0.64:\n",
        "  print(f\"{x1} можем отбросить на критерии значимости q=0,05\")\n",
        "else:\n",
        "  print(f\"{x1} не отбрасываем\")"
      ],
      "metadata": {
        "colab": {
          "base_uri": "https://localhost:8080/"
        },
        "id": "tQpo1NoHIdZY",
        "outputId": "9c9eb8e5-e0df-47c3-df98-9fe5f5ea5cd8"
      },
      "execution_count": null,
      "outputs": [
        {
          "output_type": "stream",
          "name": "stdout",
          "text": [
            "11.5 можем отбросить на критерии значимости q=0,05\n"
          ]
        }
      ]
    },
    {
      "cell_type": "markdown",
      "source": [
        "##Задание 4 (проверка результата измерения по критерию Шовине)"
      ],
      "metadata": {
        "id": "oC-7kFUNM1YA"
      }
    },
    {
      "cell_type": "code",
      "source": [
        "data = [5.6, 5.5, 5.8, 5.3, 5.5, 5.6, 5.4, 5.9, 5.5, 5.6]\n",
        "\n",
        "z = max(data)\n",
        "\n",
        "mean = sum(data)/len(data)\n",
        "std = 0\n",
        "for ell in data:\n",
        "  std += (ell-mean)**2\n",
        "std /= len(data)-1\n",
        "std **= 1/2\n",
        "\n",
        "criterion = {3:1.6, 6:1.7, 8:1.9, 10:2}\n",
        "\n",
        "if abs(mean - z) > criterion[len(data)] * std:\n",
        "  print(f\"{z} является промахом\")\n",
        "else:\n",
        "  print(f\"{z} не является промахом\")"
      ],
      "metadata": {
        "colab": {
          "base_uri": "https://localhost:8080/"
        },
        "id": "iZkOaqb9M1B1",
        "outputId": "a0eb78c8-76b0-4e6b-883b-5d702408a0c0"
      },
      "execution_count": null,
      "outputs": [
        {
          "output_type": "stream",
          "name": "stdout",
          "text": [
            "5.9 не является промахом\n"
          ]
        }
      ]
    },
    {
      "cell_type": "markdown",
      "source": [
        "##Задание 5 (определение наличия систематической погрешности измерения способом последовательных разностей)"
      ],
      "metadata": {
        "id": "v2RgqphWOcEo"
      }
    },
    {
      "cell_type": "markdown",
      "source": [
        "Алгоритм\n",
        "- Рассчитываем среднее арифметическое(mean)\n",
        "- Определяем дисперсию результатов наблюдений(dispersion)\n",
        "- Определим дисперсию результатов наблюдений методом последовательных разностей(Q2)\n",
        "- Рассчитаем значение критерия Аббе(Vq)\n",
        "- Проверим гипотезу"
      ],
      "metadata": {
        "id": "68Ffqcw6jO02"
      }
    },
    {
      "cell_type": "code",
      "source": [
        "data = [157, 165, 161, 149, 154, 161, 161, 157, 165, 157]\n",
        "n = len(data)\n",
        "q = 0.05\n",
        "\n",
        "mean = sum(data)/len(data)\n",
        "\n",
        "dispersion = 0\n",
        "for ell in data:\n",
        "  dispersion += (ell-mean)**2\n",
        "dispersion /= len(data)-1\n",
        "\n",
        "Q2 = 0\n",
        "for i in range (1, n):\n",
        "  Q2 += (data[i] - data[i-1])**2\n",
        "Q2 /= 2*(n-1)\n",
        "\n",
        "Vq = 0.531\n",
        "V = Q2/dispersion\n",
        "\n",
        "if V > Vq:\n",
        "  print(\"подтверждается гипотеза о постоянстве центра группирования результатов наблюдений\")\n",
        "else:\n",
        "    print(\"не подтверждается гипотеза о постоянстве цеттра группирования результатов наблюдений\")"
      ],
      "metadata": {
        "colab": {
          "base_uri": "https://localhost:8080/"
        },
        "id": "_L1lTvz_OemK",
        "outputId": "ca68cb74-1d9d-4bf2-8dc2-6a6cd0c1a6ff"
      },
      "execution_count": null,
      "outputs": [
        {
          "output_type": "stream",
          "name": "stdout",
          "text": [
            "подтверждается гипотеза о постоянстве центра группирования результатов наблюдений\n"
          ]
        }
      ]
    },
    {
      "cell_type": "markdown",
      "source": [
        "##Задание 6 (определение наличия систематической погрешности измерения)"
      ],
      "metadata": {
        "id": "zhm82pINSB_3"
      }
    },
    {
      "cell_type": "markdown",
      "source": [
        "Алгоритм:\n",
        "- Рассчитываем значение критерия Фишера(Fq = sigma2_mc / sigma2_vc)\n",
        "- Для числа степеней свободы k1 = s –1 и числа степеней свободы измерений k2 = N – s при уровне значимости q = 0,05 критическое значение критерия Фишера определим по таблице\n",
        "- Для определения значения критерия для заданного параметра k2 воспользуемся линейной интерполяцией\n",
        "-Проверим критерий Фишера"
      ],
      "metadata": {
        "id": "RCUqALfcj0jd"
      }
    },
    {
      "cell_type": "code",
      "source": [
        "N = 150\n",
        "s = 15\n",
        "n = 10\n",
        "sigma2_vc = 0.0172\n",
        "sigma2_mc = 0.0425\n",
        "q = 0.05\n",
        "\n",
        "Fq = sigma2_mc / sigma2_vc\n",
        "\n",
        "k1 = s - 1\n",
        "k2 = N - s\n",
        "\n",
        "F100 = 1.75\n",
        "F200 = 1.69\n",
        "\n",
        "\n",
        "\n",
        "Fisher_criterion = ((F200 - F100)/(200 - 100)) * k2 + (F100*200 - F200 * 100)/(200-100)\n",
        "\n",
        "if Fq > Fisher_criterion:\n",
        "  print(\"В представленных результатах наблюдений обнаруживается наличие систематической погрешности\")\n",
        "else:\n",
        "  print(\"В представленных результатах наблюдений не обнаруживается наличие систематической погрешности\")\n"
      ],
      "metadata": {
        "colab": {
          "base_uri": "https://localhost:8080/"
        },
        "id": "lY3sM8saSBjl",
        "outputId": "b8d15b5f-027b-4251-df17-2699823e845b"
      },
      "execution_count": 15,
      "outputs": [
        {
          "output_type": "stream",
          "name": "stdout",
          "text": [
            "В представленных результатах наблюдений обнаруживается наличие систематической погрешности\n"
          ]
        }
      ]
    }
  ]
}